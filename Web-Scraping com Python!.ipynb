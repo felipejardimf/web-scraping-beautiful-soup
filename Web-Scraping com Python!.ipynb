{
 "cells": [
  {
   "cell_type": "markdown",
   "metadata": {},
   "source": [
    "# ------------ Web-Scraping com Python ------------ #\n"
   ]
  },
  {
   "cell_type": "markdown",
   "metadata": {},
   "source": [
    "# <center> Exemplo de Código em HTML</center>\n",
    "\n",
    "![](images/exemplo_html.png)"
   ]
  },
  {
   "cell_type": "raw",
   "metadata": {},
   "source": [
    "HTML - HyperText Markup Language\n",
    "\n",
    "Sintaxe ( Tags )\n",
    "\n",
    "- Utilizamos sinais de < e > para abertura e fechamento de tags. \n",
    "<nome_da_tag> </nome_da_tag>\n",
    "\n",
    "- Algumas tags não precisam ser fechadas.\n",
    "<nome_da_tag  \n",
    "\n",
    "* Tags mais utilizadas :\n",
    "\n",
    "<html> - indica que é um documento HTML - Todo documento HTML deve ter essa TAG.\n",
    "<title> - Tag indicando o título pertencente ao documento html\n",
    "<head> - Tag indicando cabeçalho do documento HTML ( Nada é impresso aqui, apenas para organização e divisão de blocos)\n",
    "<body> - Tag indicando \"corpo\" do documento HTML - conteúdo geral do documento HTML\n",
    "<div> - Tag indicando bloco de código\n",
    "<footer> - Tag indicando rodapé do documento HTML\n",
    "<h1> até <h6> - 'sub-headers' \n",
    "<p> - Tag indicando parágrafo\n",
    "<a> - inclusão de links\n",
    "<br> - pular uma linha\n",
    "<strong> - tag para deixar a string em negrito\n",
    "<!--  tag exclusiva para comentários\n",
    "<ul>\tDefines uma lista desordenada\n",
    "<ol>\tDefines uma lista ordenada\n",
    "<li>\tDefine o item de uma lista\n",
    "<dl>\tDefine a descrição de uma lista\n",
    "<dt>\tDefines um termo em uma descrição de uma lista\n",
    "<dd>\tDescreve o termo em uma descrição de uma lista\n",
    "<marquee> - tag que aplica efeito de slide no objeto\n",
    "<table> - Tag para criação de tabelas ( Muito útil para Scrapers ) \n",
    "Cada linha da tabela possui uma tag <tr> , a tag <th> define o Header da tabela , os dados contidos na tabela , ficam em <td>.\n",
    "\n",
    "\n",
    "Sintaxe (Atributos):\n",
    "\n",
    "#o uso de \"\"(aspas) no valor do atributo, algumas vezes, não é obrigatório, mas o recomendado , é sempre utilizar aspas!\n",
    "<nome_da_tag nome_atributo=\"valor_entre_aspas\" />\n",
    "\n",
    "\n",
    "Ex: <a href=\"https://www.google.com.br\" />\n",
    "\n",
    "Múltiplos atributos: \n",
    "\n",
    "Ex: <marquee direction=\"left\" bgcolor=\"blue\"> Exemplo </marquee>\n",
    "\n",
    "* Atributos mais utilizados:\n",
    "\n",
    "class,\n",
    "dir,\n",
    "hidden,\n",
    "id, (o atributo ID , classifica cada objeto como sendo único no documento HTML ) \n",
    "lang,\n",
    "style,\n",
    "title\n",
    "download,\n",
    "href, \n",
    "rel,\n",
    "target\n",
    "type\n",
    "src,\n",
    "alt,\n",
    "lang"
   ]
  },
  {
   "cell_type": "markdown",
   "metadata": {},
   "source": [
    "# Como identificar informações e tecnologias de um site ? #"
   ]
  },
  {
   "cell_type": "markdown",
   "metadata": {},
   "source": [
    "# <center>Exemplo - Inspecionar Website</center>\n",
    "\n",
    "![](images/exemplo_html2.png)"
   ]
  },
  {
   "cell_type": "markdown",
   "metadata": {},
   "source": [
    "## O arquivo robots.txt !"
   ]
  },
  {
   "cell_type": "markdown",
   "metadata": {},
   "source": [
    "## https://www.crummy.com/robots.txt"
   ]
  },
  {
   "cell_type": "code",
   "execution_count": null,
   "metadata": {},
   "outputs": [],
   "source": []
  },
  {
   "cell_type": "markdown",
   "metadata": {},
   "source": [
    "## Tecnologias usadas em um website"
   ]
  },
  {
   "cell_type": "code",
   "execution_count": null,
   "metadata": {},
   "outputs": [],
   "source": [
    "#!pip install builtwith"
   ]
  },
  {
   "cell_type": "code",
   "execution_count": null,
   "metadata": {},
   "outputs": [],
   "source": [
    "import builtwith"
   ]
  },
  {
   "cell_type": "code",
   "execution_count": null,
   "metadata": {
    "scrolled": true
   },
   "outputs": [],
   "source": [
    "builtwith.parse(\"https://www.facebook.com\")"
   ]
  },
  {
   "cell_type": "markdown",
   "metadata": {},
   "source": [
    "## Extrair informações de owner do website e servidores "
   ]
  },
  {
   "cell_type": "code",
   "execution_count": null,
   "metadata": {},
   "outputs": [],
   "source": [
    "#!pip install python-whois"
   ]
  },
  {
   "cell_type": "code",
   "execution_count": null,
   "metadata": {},
   "outputs": [],
   "source": [
    "import whois"
   ]
  },
  {
   "cell_type": "code",
   "execution_count": null,
   "metadata": {},
   "outputs": [],
   "source": [
    "print(whois.whois('www.cdb.com.br'))"
   ]
  },
  {
   "cell_type": "markdown",
   "metadata": {},
   "source": [
    "# Expressoes Regulares ( REGEX ) #"
   ]
  },
  {
   "cell_type": "code",
   "execution_count": null,
   "metadata": {},
   "outputs": [],
   "source": [
    "import re"
   ]
  },
  {
   "cell_type": "raw",
   "metadata": {},
   "source": [
    "# Biblioteca re \n",
    "\n",
    "\n",
    "### Instalação ###\n",
    "\n",
    "Não necessita instalação - Lib padrão Python\n",
    "\n",
    "\n",
    "### Importação ###\n",
    "\n",
    "import re\n",
    "\n",
    "\n",
    "### Uso ###\n",
    "\n",
    "caracteres mais utilizados:\n",
    "\n",
    "caractere '.' - Significa tudo, busca qualquer caracter ( exceto nova linha )\n",
    "\n",
    "caractere '^' - Define o inicio do texto\n",
    "\n",
    "caractere '$' - Define o final do texto\n",
    "\n",
    "caractere '\\' - Funciona como caractere de escape, substitui caracteres especiais para caracteres literais\n",
    "\n",
    "[] -  funciona como 'range', busca padrões nas strings internas do colchetes\n",
    "\n",
    "*  0 ou mais ocorrencias na busca , retorna vazio quando não encontrar o padrão .\n",
    "\n",
    "+  - 1 ou mais ocorrencias da expressão anterior\n",
    "\n",
    "? - determina que a expressão anterior possa ser opcional.\n",
    "\n",
    "\\d - busca por padrões númericos\n",
    "\n",
    "\\D - busca por padrões não numéricos\n",
    "\n",
    "\\s - busca por padrões de espaçamento.\n",
    "\n",
    "\\S - busca qualquer caractere que não seja de espaçamento\n",
    "\n",
    "\\w - busca qualquer caractere de [A-Z e 0-9] | [a-z e 09] e sublinhado\n",
    "\n",
    "\\W - busca qualquer caractere que não seja [A-Z e 0-9] | [a-z e 09] ou sublinhado\n",
    "\n",
    "{} - definir quantidade de ocorrências da expressão anterior - \\d{2}  - busca por números com 2 dígitos \\d{1-10} busca por numeros de 1 a 10 digitos\n",
    "\n",
    "| - equivalente ao OU (lógico)\n",
    "\n",
    "() - usa-se para agrupamento de expressões\n",
    "\n",
    "\n",
    "#### métodos mais comuns\n",
    "\n",
    "re.search() - Método que procura a PRIMEIRA ocorrência do padrão em qualquer posição da string.\n",
    "\n",
    "re.findall() - Método que procura TODAS ocorrências do padrão em qualquer posição da string.\n",
    "\n",
    "re.match() - Método que procura a PRIMEIRA ocorrência somente no início da string.\n",
    "\n",
    "re.compile() - Método que compila um padrão, resulta em um objeto que pode ser utilizado assim como re.\n",
    "\n",
    "re.sub() - Método que realiza substituições em uma string.\n",
    "\n",
    "re.split() - Método que separa strings baseadas em padrões regex.\n",
    "\n",
    "* flags\n",
    "\n",
    "re.DOTALL - faz com que o caractere '.' combine com qualquer padrao, inclusive com uma nova linha, tabulacao\n",
    "\n",
    "re.IGNORECASE - traz o resultado tanto de maiusculas quanto minusculas\n",
    "\n",
    "re.MULTILINE\tfaz com que inicio/fim {^, $} considere cada linha.\n",
    "\n",
    "re.UNICODE\tfaz com que {\\w, \\W, \\b, \\B} siga regras de unicode\n",
    "\n",
    "re.LOCALE\tfaz com que {\\w, \\W, \\b, \\B} siga \"locale\"\n",
    "\n",
    "re.VERBOSE\tpermite comentários em REGEX.\n"
   ]
  },
  {
   "cell_type": "code",
   "execution_count": null,
   "metadata": {},
   "outputs": [],
   "source": [
    "exemplo = 'Este é o 4º Meetup da PoD, Estou muito feliz em aprender Web Scraping com nosso querido amigo Sales'"
   ]
  },
  {
   "cell_type": "markdown",
   "metadata": {},
   "source": [
    "* método search "
   ]
  },
  {
   "cell_type": "code",
   "execution_count": null,
   "metadata": {},
   "outputs": [],
   "source": [
    "#search busca a primeira ocorrencia em qualquer posicao do texto\n",
    "busca = re.search('Meetup',exemplo)"
   ]
  },
  {
   "cell_type": "code",
   "execution_count": null,
   "metadata": {},
   "outputs": [],
   "source": [
    "print(busca)"
   ]
  },
  {
   "cell_type": "markdown",
   "metadata": {},
   "source": [
    "* método findall"
   ]
  },
  {
   "cell_type": "code",
   "execution_count": null,
   "metadata": {},
   "outputs": [],
   "source": [
    "padrao = '[0-9]'"
   ]
  },
  {
   "cell_type": "code",
   "execution_count": null,
   "metadata": {},
   "outputs": [],
   "source": [
    "#findall busca todas ocorrencias encontradas\n",
    "busca = re.findall(padrao,exemplo)"
   ]
  },
  {
   "cell_type": "code",
   "execution_count": null,
   "metadata": {},
   "outputs": [],
   "source": [
    "print(busca)"
   ]
  },
  {
   "cell_type": "markdown",
   "metadata": {},
   "source": [
    "* método match"
   ]
  },
  {
   "cell_type": "code",
   "execution_count": null,
   "metadata": {},
   "outputs": [],
   "source": [
    "#match busca a primeira ocorrencia somente no inicio da string\n",
    "busca = re.match('E',exemplo)"
   ]
  },
  {
   "cell_type": "code",
   "execution_count": null,
   "metadata": {},
   "outputs": [],
   "source": [
    "print(busca)"
   ]
  },
  {
   "cell_type": "code",
   "execution_count": null,
   "metadata": {},
   "outputs": [],
   "source": [
    "#retorna None se não encontrar\n",
    "busca = re.match('F',exemplo)"
   ]
  },
  {
   "cell_type": "code",
   "execution_count": null,
   "metadata": {},
   "outputs": [],
   "source": [
    "print(busca)"
   ]
  },
  {
   "cell_type": "markdown",
   "metadata": {},
   "source": [
    "* método sub"
   ]
  },
  {
   "cell_type": "code",
   "execution_count": null,
   "metadata": {},
   "outputs": [],
   "source": [
    "exemplo2 = 'CACHORRO é um animal muito DÓCIL! Eu tenho 10 cachorros'"
   ]
  },
  {
   "cell_type": "code",
   "execution_count": null,
   "metadata": {},
   "outputs": [],
   "source": [
    "#sub - realiza substituicoes na string\n",
    "busca = re.sub('[\\D]', lambda m: m.group(0).lower(),exemplo2)"
   ]
  },
  {
   "cell_type": "code",
   "execution_count": null,
   "metadata": {},
   "outputs": [],
   "source": [
    "busca"
   ]
  },
  {
   "cell_type": "code",
   "execution_count": null,
   "metadata": {},
   "outputs": [],
   "source": [
    "busca = re.sub('[0-9]', '' ,exemplo2)"
   ]
  },
  {
   "cell_type": "code",
   "execution_count": null,
   "metadata": {},
   "outputs": [],
   "source": [
    "busca"
   ]
  },
  {
   "cell_type": "markdown",
   "metadata": {},
   "source": [
    "* método split"
   ]
  },
  {
   "cell_type": "code",
   "execution_count": null,
   "metadata": {},
   "outputs": [],
   "source": [
    "texto = 'Felipe|Joao|Silva|Aline|Jose'\n",
    "\n",
    "#quebra strings por um caracter, ou um padrao\n",
    "print(re.split(\"\\|\",texto))\n",
    "\n",
    "#percebam que utilizei a contra barra \"\\\" juntamente com o pipe '|', pois o pipe '|' também signigica \"OU\" ( lógico ) \n"
   ]
  },
  {
   "cell_type": "markdown",
   "metadata": {},
   "source": [
    "* método compile"
   ]
  },
  {
   "cell_type": "code",
   "execution_count": null,
   "metadata": {},
   "outputs": [],
   "source": [
    "#armazena o padrão em um objeto compilado (ganho de performance)\n",
    "padrao = re.compile('[A-Z]')"
   ]
  },
  {
   "cell_type": "code",
   "execution_count": null,
   "metadata": {},
   "outputs": [],
   "source": [
    "texto = 'meu nome é Felipe'"
   ]
  },
  {
   "cell_type": "code",
   "execution_count": null,
   "metadata": {},
   "outputs": [],
   "source": [
    "padrao.search(texto)"
   ]
  },
  {
   "cell_type": "code",
   "execution_count": null,
   "metadata": {},
   "outputs": [],
   "source": [
    "padrao.findall(texto)"
   ]
  },
  {
   "cell_type": "code",
   "execution_count": null,
   "metadata": {},
   "outputs": [],
   "source": [
    "print(padrao.match(texto))"
   ]
  },
  {
   "cell_type": "markdown",
   "metadata": {},
   "source": [
    "* Flags"
   ]
  },
  {
   "cell_type": "code",
   "execution_count": null,
   "metadata": {},
   "outputs": [],
   "source": [
    "texto ='''Meu nome é Felipe,\n",
    "          esse é nosso curso de\n",
    "          web scraping'''\n",
    "\n",
    "padrao = '.+'"
   ]
  },
  {
   "cell_type": "code",
   "execution_count": null,
   "metadata": {},
   "outputs": [],
   "source": [
    "#padrao = re.findall(padrao,texto)\n",
    "padrao = re.findall(padrao,texto,re.DOTALL)"
   ]
  },
  {
   "cell_type": "code",
   "execution_count": null,
   "metadata": {},
   "outputs": [],
   "source": [
    "padrao"
   ]
  },
  {
   "cell_type": "code",
   "execution_count": null,
   "metadata": {},
   "outputs": [],
   "source": [
    "#Como o Python trata caracteres de espacamento\n",
    "print(\"\\nWeb        \\b\\b\\bScraping com \\t Python\")"
   ]
  },
  {
   "cell_type": "code",
   "execution_count": null,
   "metadata": {},
   "outputs": [],
   "source": [
    "#utilizamos 'r'(RAW) para que o Python nao interprete tais caracteres\n",
    "print(r\"\\nWeb  \\bScraping com \\t Python\")"
   ]
  },
  {
   "cell_type": "markdown",
   "metadata": {},
   "source": [
    "### Como encontrar CPFs e CNPJs ?"
   ]
  },
  {
   "cell_type": "code",
   "execution_count": null,
   "metadata": {},
   "outputs": [],
   "source": [
    "import re"
   ]
  },
  {
   "cell_type": "code",
   "execution_count": null,
   "metadata": {},
   "outputs": [],
   "source": [
    "# Vamos procurar CPFs e CNPJs utilizando REGEX! \n",
    "\n",
    "cpfs = \"^([0-9]{3})[\\.]?([0-9]{3})[\\.]?([0-9]{3})[-]?([0-9]{2})$\"\n",
    "\n",
    "cnpjs = \"^(\\d{2})\\.?(\\d{3})\\.?(\\d{3})\\/?(\\d{4})-?(\\d{2})$\"\n"
   ]
  },
  {
   "cell_type": "code",
   "execution_count": null,
   "metadata": {},
   "outputs": [],
   "source": [
    "cpf1 = '43047826811'\n",
    "cpf2 = '123456789-11'\n",
    "cpf3 = '1111111111111111'"
   ]
  },
  {
   "cell_type": "code",
   "execution_count": null,
   "metadata": {},
   "outputs": [],
   "source": [
    "cpfs_1=re.findall(cpfs,cpf1)\n",
    "cpfs_2=re.findall(cpfs,cpf2)\n",
    "cpfs_3=re.findall(cpfs,cpf3)"
   ]
  },
  {
   "cell_type": "code",
   "execution_count": null,
   "metadata": {},
   "outputs": [],
   "source": [
    "print(cpfs_1,cpfs_2,cpfs_3)"
   ]
  },
  {
   "cell_type": "code",
   "execution_count": null,
   "metadata": {},
   "outputs": [],
   "source": []
  },
  {
   "cell_type": "code",
   "execution_count": null,
   "metadata": {},
   "outputs": [],
   "source": [
    "cnpj1 = '43047826811'\n",
    "cnpj2 = '11.111.123/0001-12'\n",
    "cnpj3 = '11111111111111'"
   ]
  },
  {
   "cell_type": "code",
   "execution_count": null,
   "metadata": {},
   "outputs": [],
   "source": [
    "cnpj_1=re.findall(cnpjs,cnpj1)\n",
    "cnpj_2=re.findall(cnpjs,cnpj2)\n",
    "cnpj_3=re.findall(cnpjs,cnpj3)"
   ]
  },
  {
   "cell_type": "code",
   "execution_count": null,
   "metadata": {},
   "outputs": [],
   "source": [
    "print(cnpj_1,cnpj_2,cnpj_3)"
   ]
  },
  {
   "cell_type": "code",
   "execution_count": null,
   "metadata": {},
   "outputs": [],
   "source": [
    "cpfs_ = [''.join(tup) for tup in cpfs_1]"
   ]
  },
  {
   "cell_type": "code",
   "execution_count": null,
   "metadata": {},
   "outputs": [],
   "source": [
    "for i in cpfs_:\n",
    "    print(i)"
   ]
  },
  {
   "cell_type": "markdown",
   "metadata": {},
   "source": [
    "### Como localizar e-mails utilizando Regex ?"
   ]
  },
  {
   "cell_type": "code",
   "execution_count": null,
   "metadata": {},
   "outputs": [],
   "source": [
    "testee = 'meu nome é felipe e meu email é felipejardimf@gmail.com.br , possuo também o felipe2-jardim.fiorentino@yahoo.com.br'"
   ]
  },
  {
   "cell_type": "code",
   "execution_count": null,
   "metadata": {},
   "outputs": [],
   "source": [
    "re.findall('[\\w\\.-]+@[\\w\\.-]+\\.\\w+',testee)"
   ]
  },
  {
   "cell_type": "markdown",
   "metadata": {},
   "source": [
    "### Como localizar CEPs ?"
   ]
  },
  {
   "cell_type": "code",
   "execution_count": null,
   "metadata": {},
   "outputs": [],
   "source": [
    "cep = '13500-313'\n",
    "\n",
    "cep2= '04305000'\n",
    "\n",
    "cep3= '03232432443242'"
   ]
  },
  {
   "cell_type": "code",
   "execution_count": null,
   "metadata": {},
   "outputs": [],
   "source": [
    "re.findall('^\\d{5}-?\\d{3}$',cep3)"
   ]
  },
  {
   "cell_type": "markdown",
   "metadata": {},
   "source": [
    "### Localizando celulares com Regex !"
   ]
  },
  {
   "cell_type": "code",
   "execution_count": null,
   "metadata": {},
   "outputs": [],
   "source": [
    "import re"
   ]
  },
  {
   "cell_type": "code",
   "execution_count": null,
   "metadata": {},
   "outputs": [],
   "source": [
    "exemplo_telefone = '''\n",
    "Meu telefone é (19)991709972\n",
    "Meu telefone é (19)99170-8942\n",
    "Meu telefone é (11)999129999\n",
    "Meu telefone é (11)99129999\n",
    "Meu telefone é 11999\n",
    "Meu telefone é 992453312\n",
    "'''"
   ]
  },
  {
   "cell_type": "code",
   "execution_count": null,
   "metadata": {},
   "outputs": [],
   "source": [
    "re.findall('\\(?\\d{2}\\)?[\\s-]?[\\s9]?\\d{4}-?\\d{4}',exemplo_telefone)"
   ]
  },
  {
   "cell_type": "markdown",
   "metadata": {},
   "source": [
    "# Realizando meu primeiro Scrap! #"
   ]
  },
  {
   "cell_type": "markdown",
   "metadata": {},
   "source": [
    "# Requests\n",
    "\n",
    "Biblioteca utilizada para enviar requisições para documentos HTML\n",
    "\n",
    "#### Instalação ####\n",
    "\n",
    "pip install requests\n",
    "\n",
    "conda install -c anaconda requests\n",
    "\n",
    "\n",
    "#### Importação ####\n",
    "\n",
    "import requests\n",
    "\n",
    "\n",
    "#### Uso ####\n",
    "\n",
    "html = requests.get(\"www.site.com\")   - método get manda uma requisição para o servidor buscando todo conteúdo html do website.\n",
    "\n",
    "html.text = método text traz todo documento html para um objeto do tipo str\n",
    "\n",
    "outras requisições HTTP:\n",
    "\n",
    "html = requests.put('https://www.site.com/put', data = {'key':'value'})\n",
    "\n",
    "html = requests.delete('https://www.site.com/delete')\n",
    "\n",
    "html = requests.head('https://www.site.com/head')\n",
    "\n",
    "html = requests.options('https://www.site.com/options')\n",
    "\n",
    "\n",
    "html.response -  método response mostra o resultado da requisição enviada ao servidor.\n",
    "\n",
    "Respostas de informação (100-199)\n",
    "\n",
    "Respostas de sucesso (200-299)  (200 é a mais comum, significa OK.)\n",
    "\n",
    "Redirecionamentos (300-399)\n",
    "\n",
    "Erros do cliente (400-499)\n",
    "\n",
    "Erros do servidor (500-599)"
   ]
  },
  {
   "cell_type": "markdown",
   "metadata": {},
   "source": [
    "# urllib\n",
    "\n",
    "Lib padrão de Python para se trabalhar com requisições HTTP.\n",
    "tem recursos similares com a lib Requests.\n",
    "\n",
    "#### Instalação ####\n",
    "\n",
    "Lib padrão Python, não necessita de instalação.\n",
    "\n",
    "#### Importação ####\n",
    "\n",
    "import urllib\n",
    "\n",
    "from urllib.requests import urlopen\n",
    "\n",
    "import urllib.request\n",
    "\n",
    "#### Uso ####\n",
    "\n",
    "html = urlopen(\"http://www.site.com\")  Envia requisição GET para um servidor , retornando todo documento HTML\n",
    "\n",
    "html.read() - Função retorna todo conteúdo HTML .\n",
    "\n",
    "html.status() - método Status retorna o resultado da conexão ( quando OK , #200 )\n",
    "\n",
    "Respostas de informação (100-199)\n",
    "\n",
    "Respostas de sucesso (200-299)  (200 é a mais comum, significa OK.)\n",
    "\n",
    "Redirecionamentos (300-399)\n",
    "\n",
    "Erros do cliente (400-499)\n",
    "\n",
    "Erros do servidor (500-599)\n",
    "\n",
    "urllib.request.urlretrieve('http://python.org/','teste.txt') - salva o conteúdo HTML em um arquivo."
   ]
  },
  {
   "cell_type": "code",
   "execution_count": null,
   "metadata": {},
   "outputs": [],
   "source": []
  },
  {
   "cell_type": "markdown",
   "metadata": {},
   "source": [
    "\n",
    "# BeautifulSoup\n",
    "\n",
    "#### Instalação ####\n",
    "\n",
    "pip install beautifulsoup4\n",
    "\n",
    "conda install beautifulsoup4\n",
    "\n",
    "\n",
    "#### Importação ####\n",
    "\n",
    "from bs4 import BeautifulSoup\n",
    "\n",
    "\n",
    "#### Uso ####\n",
    "\n",
    "\n",
    "métodos mais utilizados:\n",
    "\n",
    "BeautifulSoup.find - Retorna o primeiro elemento encontrado\n",
    "\n",
    "BeautifulSoup.findAll #find_all tem a mesma finalidade - Retorna todos elementos contidos no documento HTML, correspondendo com a busca.\n",
    "\n",
    "BeautifulSoup.prettify - Exibe o documento HTML com quebras em camadas.\n",
    "\n",
    "BeautifulSoup.get - Usado para retornar o valor de um atributo.\n",
    "\n",
    "BeautifulSoup.text - Usado para retornar o texto contido dentro de uma TAG .\n",
    "    "
   ]
  },
  {
   "cell_type": "code",
   "execution_count": null,
   "metadata": {},
   "outputs": [],
   "source": [
    "\n",
    "#!pip install beautifulsoup4\n",
    "#conda install beautifulsoup4\n",
    "from bs4 import BeautifulSoup"
   ]
  },
  {
   "cell_type": "code",
   "execution_count": null,
   "metadata": {},
   "outputs": [],
   "source": [
    "\n",
    "import urllib\n",
    "from urllib.request import urlopen"
   ]
  },
  {
   "cell_type": "code",
   "execution_count": null,
   "metadata": {},
   "outputs": [],
   "source": [
    "html = urlopen(\"http://localhost:8000/exemplo.html\")"
   ]
  },
  {
   "cell_type": "code",
   "execution_count": null,
   "metadata": {},
   "outputs": [],
   "source": [
    "bs = BeautifulSoup(html.read(),'html.parser')"
   ]
  },
  {
   "cell_type": "code",
   "execution_count": null,
   "metadata": {},
   "outputs": [],
   "source": [
    "#Exibe o documento HTML com quebras em camadas.\n",
    "print(bs.prettify())"
   ]
  },
  {
   "cell_type": "markdown",
   "metadata": {},
   "source": [
    "### Como extrair informações de um determinado elemento HTML ?"
   ]
  },
  {
   "cell_type": "code",
   "execution_count": null,
   "metadata": {},
   "outputs": [],
   "source": [
    "bs.title"
   ]
  },
  {
   "cell_type": "code",
   "execution_count": null,
   "metadata": {},
   "outputs": [],
   "source": [
    "bs.head"
   ]
  },
  {
   "cell_type": "code",
   "execution_count": null,
   "metadata": {},
   "outputs": [],
   "source": [
    "bs.html.head.title"
   ]
  },
  {
   "cell_type": "code",
   "execution_count": null,
   "metadata": {},
   "outputs": [],
   "source": [
    "bs.div"
   ]
  },
  {
   "cell_type": "markdown",
   "metadata": {},
   "source": [
    "### Encontrando elementos HTML por Atributo, classes, IDs , CSS "
   ]
  },
  {
   "cell_type": "code",
   "execution_count": null,
   "metadata": {},
   "outputs": [],
   "source": [
    "from bs4 import BeautifulSoup\n",
    "from urllib.request import urlopen"
   ]
  },
  {
   "cell_type": "code",
   "execution_count": null,
   "metadata": {},
   "outputs": [],
   "source": [
    "teste = urlopen(\"http://localhost:8000/exemplo.html\")"
   ]
  },
  {
   "cell_type": "code",
   "execution_count": null,
   "metadata": {},
   "outputs": [],
   "source": [
    "bs = BeautifulSoup(teste,'html.parser')"
   ]
  },
  {
   "cell_type": "code",
   "execution_count": null,
   "metadata": {},
   "outputs": [],
   "source": [
    "#Procurando por ID\n",
    "print(bs.findAll(id='datas'))"
   ]
  },
  {
   "cell_type": "code",
   "execution_count": null,
   "metadata": {},
   "outputs": [],
   "source": [
    "#Procurando por TAG + ID\n",
    "\n",
    "print(bs.findAll('div', attrs={'id':'exemplo'}))"
   ]
  },
  {
   "cell_type": "code",
   "execution_count": null,
   "metadata": {},
   "outputs": [],
   "source": [
    "#Procurando por Classe\n",
    "\n",
    "print(bs.findAll(class_='teste'))"
   ]
  },
  {
   "cell_type": "code",
   "execution_count": null,
   "metadata": {},
   "outputs": [],
   "source": [
    "#Procurando por múltiplos elementos\n",
    "\n",
    "print(bs.findAll('marquee',direction='right', attrs={'bgcolor':'blue'}))\n"
   ]
  },
  {
   "cell_type": "code",
   "execution_count": null,
   "metadata": {},
   "outputs": [],
   "source": [
    "#Procurando por CSS Selectors\n",
    "\n",
    "\n",
    "print(bs.select('title')) #Procurando pela TAG\n",
    "\n",
    "print(\"\\n\\n****\\n\\n\")\n",
    "\n",
    "print(bs.select('#datas')) #Procurando pelo ID \n",
    "\n",
    "\n"
   ]
  },
  {
   "cell_type": "markdown",
   "metadata": {},
   "source": [
    "### Como Extrair todos links externos de um documento HTML ?"
   ]
  },
  {
   "cell_type": "code",
   "execution_count": null,
   "metadata": {},
   "outputs": [],
   "source": [
    "links = bs.findAll('a')"
   ]
  },
  {
   "cell_type": "code",
   "execution_count": null,
   "metadata": {},
   "outputs": [],
   "source": [
    "#pegando as descriçoes dos links dentro do HTML\n",
    "for link in links:\n",
    "    print(link.text)"
   ]
  },
  {
   "cell_type": "code",
   "execution_count": null,
   "metadata": {},
   "outputs": [],
   "source": [
    "#pegando todos links de um documento html\n",
    "for link in links:\n",
    "    print(link.get('href'))\n"
   ]
  },
  {
   "cell_type": "markdown",
   "metadata": {},
   "source": [
    "###  Como extrair tabelas de um documento HTML usando BeautifulSoup ? "
   ]
  },
  {
   "cell_type": "code",
   "execution_count": null,
   "metadata": {},
   "outputs": [],
   "source": [
    "import requests\n",
    "from bs4 import BeautifulSoup"
   ]
  },
  {
   "cell_type": "code",
   "execution_count": null,
   "metadata": {},
   "outputs": [],
   "source": [
    "html = requests.get('http://localhost:8000/exemplo.html')\n"
   ]
  },
  {
   "cell_type": "code",
   "execution_count": null,
   "metadata": {},
   "outputs": [],
   "source": [
    "soup = BeautifulSoup(html.text,'html.parser')\n",
    "\n"
   ]
  },
  {
   "cell_type": "code",
   "execution_count": null,
   "metadata": {},
   "outputs": [],
   "source": [
    "soup.findAll(id='tabela_1')"
   ]
  },
  {
   "cell_type": "code",
   "execution_count": null,
   "metadata": {},
   "outputs": [],
   "source": [
    "tabela = soup.find(id='tabela_1')"
   ]
  },
  {
   "cell_type": "code",
   "execution_count": null,
   "metadata": {},
   "outputs": [],
   "source": [
    "cols = [x.text for x in tabela.findAll('th')]"
   ]
  },
  {
   "cell_type": "code",
   "execution_count": null,
   "metadata": {},
   "outputs": [],
   "source": [
    "rows = tabela.findAll('tr')"
   ]
  },
  {
   "cell_type": "code",
   "execution_count": null,
   "metadata": {},
   "outputs": [],
   "source": [
    "data = []\n",
    "for row in rows: #percorrendo as linhas, pegando os dados..\n",
    "    data_rows = row.findAll('td')\n",
    "    data_rows = [ele.text.strip() for ele in data_rows] # trazendo os textos dentro das tags\n",
    "    data.append([ele for ele in data_rows])"
   ]
  },
  {
   "cell_type": "code",
   "execution_count": null,
   "metadata": {},
   "outputs": [],
   "source": [
    "pd.DataFrame(data=data, columns=cols)"
   ]
  },
  {
   "cell_type": "code",
   "execution_count": null,
   "metadata": {},
   "outputs": [],
   "source": []
  },
  {
   "cell_type": "markdown",
   "metadata": {},
   "source": [
    "### Problemas de Encoding ?"
   ]
  },
  {
   "cell_type": "code",
   "execution_count": null,
   "metadata": {},
   "outputs": [],
   "source": [
    "import requests"
   ]
  },
  {
   "cell_type": "code",
   "execution_count": null,
   "metadata": {},
   "outputs": [],
   "source": [
    "html = requests.get('http://localhost:8000/exemplo.html')"
   ]
  },
  {
   "cell_type": "code",
   "execution_count": null,
   "metadata": {},
   "outputs": [],
   "source": [
    "soup = BeautifulSoup(html.text,'html.parser')"
   ]
  },
  {
   "cell_type": "code",
   "execution_count": null,
   "metadata": {},
   "outputs": [],
   "source": [
    "soup.find('ul')"
   ]
  },
  {
   "cell_type": "code",
   "execution_count": null,
   "metadata": {},
   "outputs": [],
   "source": [
    "html = html.content"
   ]
  },
  {
   "cell_type": "code",
   "execution_count": null,
   "metadata": {},
   "outputs": [],
   "source": [
    "soup = BeautifulSoup(html.decode('utf-8','ignore'))"
   ]
  },
  {
   "cell_type": "code",
   "execution_count": null,
   "metadata": {},
   "outputs": [],
   "source": [
    "soup.find('ul')"
   ]
  },
  {
   "cell_type": "markdown",
   "metadata": {},
   "source": [
    "### Como extrair listas de um documento HTML ?"
   ]
  },
  {
   "cell_type": "code",
   "execution_count": null,
   "metadata": {},
   "outputs": [],
   "source": [
    "import requests\n",
    "from bs4 import BeautifulSoup"
   ]
  },
  {
   "cell_type": "code",
   "execution_count": null,
   "metadata": {},
   "outputs": [],
   "source": [
    "exemplo_lista = urlopen(\"http://localhost:8000/exemplo.html\")"
   ]
  },
  {
   "cell_type": "code",
   "execution_count": null,
   "metadata": {},
   "outputs": [],
   "source": [
    "soup = BeautifulSoup(exemplo_lista,'html.parser')"
   ]
  },
  {
   "cell_type": "code",
   "execution_count": null,
   "metadata": {},
   "outputs": [],
   "source": [
    "# Listas ordenadas\n",
    "ord_list =soup.findAll('ol')"
   ]
  },
  {
   "cell_type": "code",
   "execution_count": null,
   "metadata": {},
   "outputs": [],
   "source": [
    "# Listas desordenadas\n",
    "unord_list =soup.findAll('ul')"
   ]
  },
  {
   "cell_type": "code",
   "execution_count": null,
   "metadata": {},
   "outputs": [],
   "source": [
    "for lista in ord_list:\n",
    "    print(lista.text)"
   ]
  },
  {
   "cell_type": "code",
   "execution_count": null,
   "metadata": {},
   "outputs": [],
   "source": [
    "for lista in unord_list:\n",
    "    print(lista.text)"
   ]
  },
  {
   "cell_type": "markdown",
   "metadata": {},
   "source": [
    "### Exemplo de uso do REGEX na extração de dados"
   ]
  },
  {
   "cell_type": "code",
   "execution_count": null,
   "metadata": {},
   "outputs": [],
   "source": [
    "import re\n",
    "from bs4 import BeautifulSoup"
   ]
  },
  {
   "cell_type": "code",
   "execution_count": null,
   "metadata": {},
   "outputs": [],
   "source": [
    "exemplo_regex = urlopen(\"http://localhost:8000/exemplo.html\")"
   ]
  },
  {
   "cell_type": "code",
   "execution_count": null,
   "metadata": {},
   "outputs": [],
   "source": [
    "soup = BeautifulSoup(exemplo_regex,'html.parser')"
   ]
  },
  {
   "cell_type": "code",
   "execution_count": null,
   "metadata": {},
   "outputs": [],
   "source": [
    "datas = soup.find_all('div',  id='datas')\n",
    "data_info = re.sub(\"[\\D]\", \"\", str(datas))"
   ]
  },
  {
   "cell_type": "code",
   "execution_count": null,
   "metadata": {},
   "outputs": [],
   "source": [
    "data_info"
   ]
  },
  {
   "cell_type": "markdown",
   "metadata": {},
   "source": [
    "### Tratamento de Excessões "
   ]
  },
  {
   "cell_type": "code",
   "execution_count": null,
   "metadata": {},
   "outputs": [],
   "source": [
    "#tratamento de excessões\n",
    "\n",
    "from urllib.request import urlopen\n",
    "from urllib.error import HTTPError\n",
    "from urllib.error import URLError\n",
    "try:\n",
    "    html = urlopen('https://www.medium.com')\n",
    "except HTTPError as e:\n",
    "    print(e)\n",
    "except URLError as e:\n",
    "    print('Servidor não encontrado!')\n",
    "else:\n",
    "    print('Funcionou,bora extrair!')\n"
   ]
  },
  {
   "cell_type": "code",
   "execution_count": null,
   "metadata": {},
   "outputs": [],
   "source": [
    "try:\n",
    "    html= urlopen(\"https://www.worldometers.info/coronavirus/#countries\")\n",
    "except Exception as e:\n",
    "    print(e)"
   ]
  },
  {
   "cell_type": "code",
   "execution_count": null,
   "metadata": {},
   "outputs": [],
   "source": [
    "try:\n",
    "    html=requests.get(\"https://www.worldometers.info/coronavirus/#countries\")\n",
    "except Exception as e:\n",
    "    print(e)\n",
    "    "
   ]
  },
  {
   "cell_type": "markdown",
   "metadata": {},
   "source": [
    "### Uso de User Agents"
   ]
  },
  {
   "cell_type": "code",
   "execution_count": null,
   "metadata": {},
   "outputs": [],
   "source": [
    "try:\n",
    "    html=requests.get(\"https://www.fundamentus.com.br/detalhes.php?papel=ABEV3\")\n",
    "except Exception as e:\n",
    "    print(e)\n",
    "    "
   ]
  },
  {
   "cell_type": "code",
   "execution_count": null,
   "metadata": {},
   "outputs": [],
   "source": [
    "html.text"
   ]
  },
  {
   "cell_type": "code",
   "execution_count": null,
   "metadata": {},
   "outputs": [],
   "source": [
    "#simulando o uso de um navegador no caso do website negar nossa solicitação !\n",
    "header = {'User-Agent': 'Mozilla/5.0 (Windows NT 6.1; WOW64; rv:50.0) Gecko/20100101 Firefox/50.0'}\n",
    "   "
   ]
  },
  {
   "cell_type": "code",
   "execution_count": null,
   "metadata": {},
   "outputs": [],
   "source": [
    "html = requests.get(\"https://www.fundamentus.com.br/detalhes.php?papel=ABEV3\", headers=header)"
   ]
  },
  {
   "cell_type": "code",
   "execution_count": null,
   "metadata": {},
   "outputs": [],
   "source": [
    "\n",
    "html.text"
   ]
  },
  {
   "cell_type": "markdown",
   "metadata": {},
   "source": [
    "# Referências:\n",
    "\n",
    "\n",
    "\n"
   ]
  },
  {
   "cell_type": "markdown",
   "metadata": {},
   "source": [
    "Documentação da biblioteca re(regex) do Python : https://docs.python.org/3/library/re.html"
   ]
  },
  {
   "cell_type": "markdown",
   "metadata": {},
   "source": [
    "Documentação em Português do Brasil da Biblioteca BeautifulSoup : https://www.crummy.com/software/BeautifulSoup/bs4/doc.ptbr/"
   ]
  },
  {
   "cell_type": "markdown",
   "metadata": {},
   "source": [
    "Testar Expressões Regulares : https://regex101.com/  |   https://pythex.org/"
   ]
  },
  {
   "cell_type": "markdown",
   "metadata": {},
   "source": [
    "Dicas sobre HTML : https://htmlcheatsheet.com/"
   ]
  },
  {
   "cell_type": "markdown",
   "metadata": {},
   "source": [
    "Livro Web Scraping com Python: Coletando Mais Dados da web Moderna : https://www.oreilly.com/library/view/web-scraping-with/9781491985564/"
   ]
  },
  {
   "cell_type": "markdown",
   "metadata": {},
   "source": [
    "Documentação Biblioteca urllib : https://docs.python.org/3/library/urllib.html"
   ]
  },
  {
   "cell_type": "markdown",
   "metadata": {},
   "source": [
    "Documentação Biblioteca Requests : https://requests.readthedocs.io/en/master/"
   ]
  },
  {
   "cell_type": "code",
   "execution_count": null,
   "metadata": {},
   "outputs": [],
   "source": []
  }
 ],
 "metadata": {
  "kernelspec": {
   "display_name": "Python 3",
   "language": "python",
   "name": "python3"
  },
  "language_info": {
   "codemirror_mode": {
    "name": "ipython",
    "version": 3
   },
   "file_extension": ".py",
   "mimetype": "text/x-python",
   "name": "python",
   "nbconvert_exporter": "python",
   "pygments_lexer": "ipython3",
   "version": "3.7.4"
  }
 },
 "nbformat": 4,
 "nbformat_minor": 2
}
